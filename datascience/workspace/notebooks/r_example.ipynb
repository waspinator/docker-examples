{
 "cells": [
  {
   "cell_type": "markdown",
   "metadata": {},
   "source": [
    "# Example R Notebook"
   ]
  },
  {
   "cell_type": "code",
   "execution_count": 1,
   "metadata": {},
   "outputs": [
    {
     "name": "stdin",
     "output_type": "stream",
     "text": [
      "Enter a number:  4\n"
     ]
    },
    {
     "name": "stdout",
     "output_type": "stream",
     "text": [
      "[1] \"The factorial of 4 is 24\"\n"
     ]
    }
   ],
   "source": [
    "# take input from the user\n",
    "num = as.integer(readline(prompt=\"Enter a number: \"))\n",
    "factorial = 1\n",
    "# check is the number is negative, positive or zero\n",
    "if(num < 0) {\n",
    "print(\"Sorry, factorial does not exist for negative numbers\")\n",
    "} else if(num == 0) {\n",
    "print(\"The factorial of 0 is 1\")\n",
    "} else {\n",
    "for(i in 1:num) {\n",
    "factorial = factorial * i\n",
    "}\n",
    "print(paste(\"The factorial of\", num ,\"is\",factorial))\n",
    "}"
   ]
  },
  {
   "cell_type": "code",
   "execution_count": null,
   "metadata": {},
   "outputs": [],
   "source": []
  }
 ],
 "metadata": {
  "kernelspec": {
   "display_name": "R",
   "language": "R",
   "name": "ir"
  },
  "language_info": {
   "codemirror_mode": "r",
   "file_extension": ".r",
   "mimetype": "text/x-r-source",
   "name": "R",
   "pygments_lexer": "r",
   "version": "3.5.1"
  }
 },
 "nbformat": 4,
 "nbformat_minor": 2
}
